{
 "cells": [
  {
   "cell_type": "markdown",
   "metadata": {},
   "source": [
    "## collection types:\n"
   ]
  },
  {
   "cell_type": "markdown",
   "metadata": {},
   "source": [
    "## functions\n",
    "\n",
    "-def function_name(arguments):\n",
    "   - lines of code\n",
    "   - return value"
   ]
  },
  {
   "cell_type": "code",
   "execution_count": 4,
   "metadata": {},
   "outputs": [
    {
     "name": "stdout",
     "output_type": "stream",
     "text": [
      "enter a number4354754722\n",
      "16\n"
     ]
    }
   ],
   "source": [
    "def sumeven(a):\n",
    "    sum=0\n",
    "    while(a>0):\n",
    "        r=a%10\n",
    "        if(r%2==0):\n",
    "            sum=sum+r\n",
    "        a=a//10\n",
    "    return sum\n",
    "\n",
    "n=int(input(\"enter a number\"))\n",
    "print(sumeven(n))"
   ]
  },
  {
   "cell_type": "code",
   "execution_count": 1,
   "metadata": {},
   "outputs": [
    {
     "name": "stdout",
     "output_type": "stream",
     "text": [
      "enter a number233536332\n",
      "6\n"
     ]
    }
   ],
   "source": [
    "def large(a):\n",
    "    l=0\n",
    "    while(a>0):\n",
    "        r=a%10\n",
    "        if(r>l):\n",
    "            l=r\n",
    "        a=a//10\n",
    "    return l\n",
    "\n",
    "n=int(input(\"enter a number\"))\n",
    "print(large(n))"
   ]
  },
  {
   "cell_type": "markdown",
   "metadata": {},
   "source": [
    "## Collection types:\n",
    "- 1. list\n",
    "- 2. tuple\n",
    "- 3. set\n",
    "- 4. ditionary"
   ]
  },
  {
   "cell_type": "markdown",
   "metadata": {},
   "source": [
    "## list\n",
    "- one of the data structures in python\n",
    "- always enclosed in []\n",
    "- elements seperated by ,"
   ]
  },
  {
   "cell_type": "code",
   "execution_count": 2,
   "metadata": {},
   "outputs": [
    {
     "name": "stdout",
     "output_type": "stream",
     "text": [
      "[1, 1.2, 'abc']\n",
      "<class 'list'>\n"
     ]
    }
   ],
   "source": [
    "l=[1,1.2,\"abc\"]\n",
    "print(l)\n",
    "print(type(l))"
   ]
  },
  {
   "cell_type": "code",
   "execution_count": 3,
   "metadata": {},
   "outputs": [
    {
     "name": "stdout",
     "output_type": "stream",
     "text": [
      "1.2\n"
     ]
    }
   ],
   "source": [
    "print(l[1])"
   ]
  },
  {
   "cell_type": "code",
   "execution_count": 4,
   "metadata": {},
   "outputs": [
    {
     "name": "stdout",
     "output_type": "stream",
     "text": [
      "[1, 1.2]\n"
     ]
    }
   ],
   "source": [
    "print(l[0:2])"
   ]
  },
  {
   "cell_type": "code",
   "execution_count": 5,
   "metadata": {},
   "outputs": [
    {
     "name": "stdout",
     "output_type": "stream",
     "text": [
      "1\n",
      "1.2\n",
      "abc\n"
     ]
    }
   ],
   "source": [
    "for i in l:\n",
    "    print(i)"
   ]
  },
  {
   "cell_type": "code",
   "execution_count": 6,
   "metadata": {},
   "outputs": [
    {
     "name": "stdout",
     "output_type": "stream",
     "text": [
      "[1, 1.2, 'abc']\n"
     ]
    }
   ],
   "source": [
    "print(l[::])"
   ]
  },
  {
   "cell_type": "markdown",
   "metadata": {},
   "source": [
    "## basic list functions:\n",
    "- max(l)\n",
    "- min(l)\n",
    "- sum(l)\n",
    "- len(l)\n",
    "- avg(l)= sum(l)/len(l)"
   ]
  },
  {
   "cell_type": "markdown",
   "metadata": {},
   "source": [
    "### elements of a string can't be modified but the list can be modified\n",
    "\n",
    "- deleting an element at an index i: del l[i]\n",
    "- adding an element at the end : l.append(x) where x is the element\n",
    "- adding elements at a position: l.insert(index,element)\n",
    "- counting the number of times an element exists: l.count(element)\n",
    "- retriving the index of an element: l.index(element)\n",
    "- removing an element from the list : l.pop(index) if no index last element is popped\n",
    "- adding 2 lists into one list: l1.extend(l2) where l1 is the main list and l2 will be added to l1\n",
    "- sorting the elements of a list: l.sort()\n",
    "- reverse of a list : l.reverse()"
   ]
  },
  {
   "cell_type": "code",
   "execution_count": 9,
   "metadata": {},
   "outputs": [
    {
     "name": "stdout",
     "output_type": "stream",
     "text": [
      "[1, 2, 3, 4, 5, 1, 2, 3, 4, 5]\n",
      "True\n"
     ]
    }
   ],
   "source": [
    "l=[1,2,3,4,5]\n",
    "#repeating a list\n",
    "print(l*2)\n",
    "print(2 in l)"
   ]
  },
  {
   "cell_type": "code",
   "execution_count": 14,
   "metadata": {},
   "outputs": [
    {
     "name": "stdout",
     "output_type": "stream",
     "text": [
      "8\n"
     ]
    }
   ],
   "source": [
    "x=0\n",
    "l=[2,4,2,4,2,2,5,6]\n",
    "for i in l:\n",
    "    if(2 in l):\n",
    "        x+=1\n",
    "print(x)"
   ]
  },
  {
   "cell_type": "code",
   "execution_count": 34,
   "metadata": {},
   "outputs": [
    {
     "name": "stdout",
     "output_type": "stream",
     "text": [
      "[1, 2, 7, 3, 4, 5, 6]\n",
      "1\n",
      "2\n",
      "5\n",
      "6\n",
      "1\n",
      "[2, 2, 3, 3, 4, 4, 5, 5, 6, 6, 7, 7, 8]\n",
      "[8, 7, 7, 6, 6, 5, 5, 4, 4, 3, 3, 2, 2]\n"
     ]
    }
   ],
   "source": [
    "l=[1,2,3,4,5]\n",
    "l.append(6)\n",
    "l.insert(2,7)\n",
    "print(l)\n",
    "l.append(6)\n",
    "print(l.count(5))\n",
    "print(l.count(len(l)-2))\n",
    "print(l.index(5))\n",
    "print(l.pop())\n",
    "print(l.pop(0))\n",
    "l1=[2,3,4,5,6,7,8]\n",
    "l.extend(l1)\n",
    "l.sort()\n",
    "print(l)\n",
    "l.reverse()\n",
    "print(l)"
   ]
  },
  {
   "cell_type": "code",
   "execution_count": 41,
   "metadata": {},
   "outputs": [
    {
     "name": "stdout",
     "output_type": "stream",
     "text": [
      "enter the no.of elements5\n",
      "enter the elements2\n",
      "enter the elements445\n",
      "enter the elements32\n",
      "enter the elements213\n",
      "enter the elements12\n",
      "445\n"
     ]
    }
   ],
   "source": [
    "#largest number\n",
    "l=[]\n",
    "n=int(input(\"enter the no.of elements\"))\n",
    "for i in range(n):\n",
    "    x=int(input(\"enter the elements\"))\n",
    "    l.append(x)\n",
    "print(max(l))"
   ]
  },
  {
   "cell_type": "code",
   "execution_count": 42,
   "metadata": {},
   "outputs": [
    {
     "name": "stdout",
     "output_type": "stream",
     "text": [
      "enter the no.of elements5\n",
      "enter the nth position3\n",
      "enter the elements2\n",
      "enter the elements4\n",
      "enter the elements52\n",
      "enter the elements3\n",
      "enter the elements12\n",
      "4\n"
     ]
    }
   ],
   "source": [
    "#largest number\n",
    "l=[]\n",
    "n=int(input(\"enter the no.of elements\"))\n",
    "p=int(input(\"enter the nth position\"))\n",
    "for i in range(n):\n",
    "    x=int(input(\"enter the elements\"))\n",
    "    l.append(x)\n",
    "l.sort()\n",
    "print(l[p-1])"
   ]
  },
  {
   "cell_type": "markdown",
   "metadata": {},
   "source": [
    "## Tuples:\n",
    "- enlosed in ()\n",
    "- they are immutable. can't be changed in any way\n",
    "- used only to access the data"
   ]
  },
  {
   "cell_type": "code",
   "execution_count": 44,
   "metadata": {},
   "outputs": [
    {
     "name": "stdout",
     "output_type": "stream",
     "text": [
      "(1, 6.5, 'hello')\n",
      "<class 'tuple'>\n"
     ]
    }
   ],
   "source": [
    "t=(1,6.5,\"hello\")\n",
    "print(t)\n",
    "print(type(t))"
   ]
  },
  {
   "cell_type": "code",
   "execution_count": 45,
   "metadata": {},
   "outputs": [
    {
     "name": "stdout",
     "output_type": "stream",
     "text": [
      "Help on class tuple in module builtins:\n",
      "\n",
      "class tuple(object)\n",
      " |  tuple(iterable=(), /)\n",
      " |  \n",
      " |  Built-in immutable sequence.\n",
      " |  \n",
      " |  If no argument is given, the constructor returns an empty tuple.\n",
      " |  If iterable is specified the tuple is initialized from iterable's items.\n",
      " |  \n",
      " |  If the argument is a tuple, the return value is the same object.\n",
      " |  \n",
      " |  Methods defined here:\n",
      " |  \n",
      " |  __add__(self, value, /)\n",
      " |      Return self+value.\n",
      " |  \n",
      " |  __contains__(self, key, /)\n",
      " |      Return key in self.\n",
      " |  \n",
      " |  __eq__(self, value, /)\n",
      " |      Return self==value.\n",
      " |  \n",
      " |  __ge__(self, value, /)\n",
      " |      Return self>=value.\n",
      " |  \n",
      " |  __getattribute__(self, name, /)\n",
      " |      Return getattr(self, name).\n",
      " |  \n",
      " |  __getitem__(self, key, /)\n",
      " |      Return self[key].\n",
      " |  \n",
      " |  __getnewargs__(self, /)\n",
      " |  \n",
      " |  __gt__(self, value, /)\n",
      " |      Return self>value.\n",
      " |  \n",
      " |  __hash__(self, /)\n",
      " |      Return hash(self).\n",
      " |  \n",
      " |  __iter__(self, /)\n",
      " |      Implement iter(self).\n",
      " |  \n",
      " |  __le__(self, value, /)\n",
      " |      Return self<=value.\n",
      " |  \n",
      " |  __len__(self, /)\n",
      " |      Return len(self).\n",
      " |  \n",
      " |  __lt__(self, value, /)\n",
      " |      Return self<value.\n",
      " |  \n",
      " |  __mul__(self, value, /)\n",
      " |      Return self*value.\n",
      " |  \n",
      " |  __ne__(self, value, /)\n",
      " |      Return self!=value.\n",
      " |  \n",
      " |  __repr__(self, /)\n",
      " |      Return repr(self).\n",
      " |  \n",
      " |  __rmul__(self, value, /)\n",
      " |      Return value*self.\n",
      " |  \n",
      " |  count(self, value, /)\n",
      " |      Return number of occurrences of value.\n",
      " |  \n",
      " |  index(self, value, start=0, stop=9223372036854775807, /)\n",
      " |      Return first index of value.\n",
      " |      \n",
      " |      Raises ValueError if the value is not present.\n",
      " |  \n",
      " |  ----------------------------------------------------------------------\n",
      " |  Static methods defined here:\n",
      " |  \n",
      " |  __new__(*args, **kwargs) from builtins.type\n",
      " |      Create and return a new object.  See help(type) for accurate signature.\n",
      "\n"
     ]
    }
   ],
   "source": [
    "help('tuple')"
   ]
  },
  {
   "cell_type": "markdown",
   "metadata": {},
   "source": [
    "## Dictionary:\n",
    "- enclosed in{}\n",
    "- consists of key value pairs\n",
    "- keys are seperated from it's values by :\n",
    "- key value pairs are seperated with ,\n",
    "- keys must be unique"
   ]
  },
  {
   "cell_type": "code",
   "execution_count": 3,
   "metadata": {},
   "outputs": [
    {
     "name": "stdout",
     "output_type": "stream",
     "text": [
      "{'name': 'xyz', 'email': 'xyz@abc.com', 'address': 'hyd'}\n",
      "<class 'dict'>\n"
     ]
    }
   ],
   "source": [
    "d={\"name\":\"xyz\",\"email\":\"xyz@abc.com\",\"address\":\"hyd\"}\n",
    "print(d)\n",
    "print(type(d))\n"
   ]
  },
  {
   "cell_type": "code",
   "execution_count": 4,
   "metadata": {},
   "outputs": [
    {
     "name": "stdout",
     "output_type": "stream",
     "text": [
      "xyz\n"
     ]
    }
   ],
   "source": [
    "print(d['name'])"
   ]
  },
  {
   "cell_type": "code",
   "execution_count": 5,
   "metadata": {},
   "outputs": [
    {
     "name": "stdout",
     "output_type": "stream",
     "text": [
      "mno@pqr.com\n",
      "{'name': 'xyz', 'email': 'mno@pqr.com', 'address': 'hyd'}\n"
     ]
    }
   ],
   "source": [
    "d['email']=\"mno@pqr.com\"\n",
    "print(d['email'])\n",
    "print(d)"
   ]
  },
  {
   "cell_type": "code",
   "execution_count": 6,
   "metadata": {},
   "outputs": [
    {
     "name": "stdout",
     "output_type": "stream",
     "text": [
      "{'name': 'xyz', 'email': 'mno@pqr.com', 'address': 'hyd', 'course': 'python'}\n"
     ]
    }
   ],
   "source": [
    "d['course']='python'\n",
    "print(d)"
   ]
  },
  {
   "cell_type": "code",
   "execution_count": 7,
   "metadata": {},
   "outputs": [
    {
     "name": "stdout",
     "output_type": "stream",
     "text": [
      "{'name': 'xyz', 'email': 'mno@pqr.com', 'address': 'hyd'}\n"
     ]
    }
   ],
   "source": [
    "del d['course']\n",
    "print(d)"
   ]
  },
  {
   "cell_type": "code",
   "execution_count": 11,
   "metadata": {},
   "outputs": [
    {
     "name": "stdout",
     "output_type": "stream",
     "text": [
      "dict_keys(['name', 'email', 'address'])\n"
     ]
    }
   ],
   "source": [
    "print(d.keys())"
   ]
  },
  {
   "cell_type": "code",
   "execution_count": 13,
   "metadata": {},
   "outputs": [
    {
     "name": "stdout",
     "output_type": "stream",
     "text": [
      "{'course': 'C', 'lang': 'english'}\n"
     ]
    }
   ],
   "source": [
    "d1={\"course\":\"py\",\"lang\":\"english\",\"course\":\"C\"}\n",
    "print(d1)"
   ]
  },
  {
   "cell_type": "markdown",
   "metadata": {},
   "source": [
    "## Strings:"
   ]
  },
  {
   "cell_type": "code",
   "execution_count": 22,
   "metadata": {},
   "outputs": [
    {
     "name": "stdout",
     "output_type": "stream",
     "text": [
      "p\n",
      "pyth\n",
      "pto\n",
      "py\n",
      "yh\n",
      "nohtyp\n"
     ]
    }
   ],
   "source": [
    "s=\"python\"\n",
    "print(s[0])\n",
    "print(s[0:4])\n",
    "print(s[0:5:2])\n",
    "print(s[0:-4])\n",
    "print(s[1::2])\n",
    "print(s[::-1])"
   ]
  },
  {
   "cell_type": "code",
   "execution_count": 27,
   "metadata": {},
   "outputs": [
    {
     "name": "stdout",
     "output_type": "stream",
     "text": [
      "enter a string: hello\n",
      "it's not palindrome\n"
     ]
    }
   ],
   "source": [
    "# string palindrome\n",
    "def palin(s):\n",
    "    if s==s[::-1]:\n",
    "        print(\"it's palindrome\")\n",
    "    else:\n",
    "        print(\"it's not palindrome\")\n",
    "        \n",
    "s=input(\"enter a string: \")\n",
    "palin(s)\n",
    "    "
   ]
  },
  {
   "cell_type": "markdown",
   "metadata": {},
   "source": [
    "## String methods:\n",
    "- join something in between the string characters"
   ]
  },
  {
   "cell_type": "code",
   "execution_count": 38,
   "metadata": {},
   "outputs": [
    {
     "name": "stdout",
     "output_type": "stream",
     "text": [
      "p y t h o n\n",
      "p,y,t,h,o,n\n",
      "p:y:t:h:o:n\n",
      "pp:y:t:h:o:nyp:y:t:h:o:ntp:y:t:h:o:nhp:y:t:h:o:nop:y:t:h:o:nn\n",
      "['python', 'programming', 'is', 'easy', 'to', 'learn']\n",
      "['python progr', 'mming is e', 'sy to le', 'rn']\n",
      "python applications is easy to learn\n"
     ]
    }
   ],
   "source": [
    "s=\"python\"\n",
    "print(\" \".join(s))\n",
    "print(\",\".join(s))\n",
    "s1=\":\".join(s)\n",
    "s2=s1.join(s)\n",
    "print(s1)\n",
    "print(s2)\n",
    "s3=\"python programming is easy to learn\"\n",
    "print(s3.split())\n",
    "print(s3.split('a'))\n",
    "print(s3.replace(\"programming\",\"applications\"))"
   ]
  },
  {
   "cell_type": "code",
   "execution_count": null,
   "metadata": {},
   "outputs": [],
   "source": []
  }
 ],
 "metadata": {
  "kernelspec": {
   "display_name": "Python 3",
   "language": "python",
   "name": "python3"
  },
  "language_info": {
   "codemirror_mode": {
    "name": "ipython",
    "version": 3
   },
   "file_extension": ".py",
   "mimetype": "text/x-python",
   "name": "python",
   "nbconvert_exporter": "python",
   "pygments_lexer": "ipython3",
   "version": "3.7.4"
  }
 },
 "nbformat": 4,
 "nbformat_minor": 2
}
