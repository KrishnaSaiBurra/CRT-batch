{
 "cells": [
  {
   "cell_type": "code",
   "execution_count": 4,
   "metadata": {},
   "outputs": [
    {
     "name": "stdout",
     "output_type": "stream",
     "text": [
      "PYTHON\n",
      "python\n",
      "False\n",
      "False\n",
      "True\n"
     ]
    }
   ],
   "source": [
    "s=\"Python\"\n",
    "print(s.upper())\n",
    "print(s.lower())\n",
    "print(s.isupper())\n",
    "print(s.islower())\n",
    "print(s[1:].islower())"
   ]
  },
  {
   "cell_type": "code",
   "execution_count": 9,
   "metadata": {},
   "outputs": [
    {
     "name": "stdout",
     "output_type": "stream",
     "text": [
      "True\n",
      "False\n",
      "False\n"
     ]
    }
   ],
   "source": [
    "#istitle()\n",
    "s1=\"Python Programming\" #both the words have first letter as capital\n",
    "print(s1.istitle())\n",
    "s1=\"hello world\"\n",
    "print(s1.istitle())\n",
    "print(s1.upper().istitle())"
   ]
  },
  {
   "cell_type": "code",
   "execution_count": 14,
   "metadata": {},
   "outputs": [
    {
     "name": "stdout",
     "output_type": "stream",
     "text": [
      "False\n",
      "False\n",
      "False\n",
      "True\n",
      "True\n",
      "False\n"
     ]
    }
   ],
   "source": [
    "#isnumeric and isalpha\n",
    "s1=\"abc123\"\n",
    "print(s1.isnumeric())\n",
    "print(s1.isalpha())\n",
    "s1=\"abc\"\n",
    "print(s1.isnumeric())\n",
    "print(s1.isalpha())\n",
    "s1=\"123\"\n",
    "print(s1.isnumeric())\n",
    "print(s1.isalpha())"
   ]
  },
  {
   "cell_type": "code",
   "execution_count": 19,
   "metadata": {},
   "outputs": [
    {
     "name": "stdout",
     "output_type": "stream",
     "text": [
      "False\n",
      "True\n"
     ]
    }
   ],
   "source": [
    "#isspace\n",
    "s=\"python is fun\"\n",
    "print(s.isspace())\n",
    "s=\" \"\n",
    "print(s.isspace())"
   ]
  },
  {
   "cell_type": "code",
   "execution_count": 27,
   "metadata": {},
   "outputs": [
    {
     "name": "stdout",
     "output_type": "stream",
     "text": [
      "enter a number2752764\n",
      "[2, 7, 5, 2, 7, 6, 4]\n"
     ]
    }
   ],
   "source": [
    "#digits to a list\n",
    "\n",
    "def digitsToList(n):\n",
    "    l=[]\n",
    "    while n>0:\n",
    "        r=n%10\n",
    "        l.append(r)\n",
    "        n=n//10\n",
    "    l.reverse()\n",
    "    print(l)\n",
    "\n",
    "n=int(input(\"enter a number\"))\n",
    "digitsToList(n)\n",
    "\n",
    "        "
   ]
  },
  {
   "cell_type": "code",
   "execution_count": 37,
   "metadata": {},
   "outputs": [
    {
     "name": "stdout",
     "output_type": "stream",
     "text": [
      "enter a number24\n",
      "1 2 3 4 6 8 12 24\n"
     ]
    }
   ],
   "source": [
    "#factors of a number:\n",
    "def factors(n):\n",
    "    for i in range(1,(n//2)+1):\n",
    "        if n%i==0:\n",
    "            print(i,end=\" \")\n",
    "    print(n)\n",
    "n=int(input(\"enter a number\"))\n",
    "factors(n)"
   ]
  },
  {
   "cell_type": "code",
   "execution_count": 40,
   "metadata": {},
   "outputs": [
    {
     "name": "stdout",
     "output_type": "stream",
     "text": [
      "enter lower bound100\n",
      "enter upper bound200\n",
      "100 102 104 106 108 110 112 114 116 118 120 122 124 126 128 130 132 134 136 138 140 142 144 146 148 150 152 154 156 158 160 162 164 166 168 170 172 174 176 178 180 182 184 186 188 190 192 194 196 198 200 "
     ]
    }
   ],
   "source": [
    "# sequence between 2 numbers\n",
    "\n",
    "def sequence(m,n):\n",
    "    for i in range(m,n+1,2):\n",
    "        print(i,end=\" \")\n",
    "\n",
    "m=int(input(\"enter lower bound\"))\n",
    "n=int(input(\"enter upper bound\"))\n",
    "sequence(m,n)"
   ]
  },
  {
   "cell_type": "code",
   "execution_count": 43,
   "metadata": {},
   "outputs": [
    {
     "name": "stdout",
     "output_type": "stream",
     "text": [
      "enter a number62244\n",
      "6\n"
     ]
    }
   ],
   "source": [
    "# max digit in a number\n",
    "n=int(input(\"enter a number\"))\n",
    "print(int(max(str(n))))"
   ]
  },
  {
   "cell_type": "code",
   "execution_count": 46,
   "metadata": {},
   "outputs": [
    {
     "name": "stdout",
     "output_type": "stream",
     "text": [
      "enter a string27t27t427\n",
      "['2', '7', 't', '2', '7', 't', '4', '2', '7']\n"
     ]
    }
   ],
   "source": [
    "# string to list\n",
    "s=input(\"enter a string\")\n",
    "print(list(s))\n"
   ]
  },
  {
   "cell_type": "code",
   "execution_count": 52,
   "metadata": {},
   "outputs": [
    {
     "name": "stdout",
     "output_type": "stream",
     "text": [
      "enter a number145\n",
      "strong number\n"
     ]
    }
   ],
   "source": [
    "# strong number: 145= 1!+4!+5!\n",
    "def fact(r):\n",
    "    f=1\n",
    "    for i in range(2,r+1):\n",
    "        f=f*i \n",
    "    return f\n",
    "\n",
    "def strong(n):\n",
    "    sum=0\n",
    "    temp=n\n",
    "    while n>0:\n",
    "        r=n%10\n",
    "        x=fact(r)\n",
    "        sum=sum+x\n",
    "        n=n//10\n",
    "    if sum==temp:\n",
    "        print(\"strong number\")\n",
    "    else:\n",
    "        print(\"not a strong number\")\n",
    "        \n",
    "n=int(input(\"enter a number\"))\n",
    "strong(n)\n",
    "        "
   ]
  },
  {
   "cell_type": "code",
   "execution_count": null,
   "metadata": {},
   "outputs": [],
   "source": []
  }
 ],
 "metadata": {
  "kernelspec": {
   "display_name": "Python 3",
   "language": "python",
   "name": "python3"
  },
  "language_info": {
   "codemirror_mode": {
    "name": "ipython",
    "version": 3
   },
   "file_extension": ".py",
   "mimetype": "text/x-python",
   "name": "python",
   "nbconvert_exporter": "python",
   "pygments_lexer": "ipython3",
   "version": "3.7.4"
  }
 },
 "nbformat": 4,
 "nbformat_minor": 2
}
